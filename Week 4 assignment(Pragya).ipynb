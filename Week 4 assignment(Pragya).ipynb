{
 "cells": [
  {
   "cell_type": "markdown",
   "id": "ecb4b7d3",
   "metadata": {},
   "source": [
    "# My Jupyter Notebook on Skills Network Labs"
   ]
  },
  {
   "cell_type": "markdown",
   "id": "5e7346b9",
   "metadata": {},
   "source": [
    "**Pragya** <br>\n",
    "Student"
   ]
  },
  {
   "cell_type": "markdown",
   "id": "883d1397",
   "metadata": {},
   "source": [
    "*I am interested in data science because it has made deriving meaningful information, and making business decisions much easier.*"
   ]
  },
  {
   "cell_type": "markdown",
   "id": "af66cc1c",
   "metadata": {},
   "source": [
    "### The code below returns the addition of two integers"
   ]
  },
  {
   "cell_type": "code",
   "execution_count": 1,
   "id": "281828a7",
   "metadata": {},
   "outputs": [
    {
     "data": {
      "text/plain": [
       "34"
      ]
     },
     "execution_count": 1,
     "metadata": {},
     "output_type": "execute_result"
    }
   ],
   "source": [
    "15+19"
   ]
  },
  {
   "cell_type": "markdown",
   "id": "1e57c958",
   "metadata": {},
   "source": [
    "### For info about The Markdown formatting syntax you can visit the following site:\n",
    "https://medium.com/analytics-vidhya/the-ultimate-markdown-guide-for-jupyter-notebook-d5e5abf728fd\n",
    "\n",
    "## Now we will use some of the formatting syntax's\n",
    "Mentioned below are some basic ~~logical~~ mathematical operations:\n",
    "----------\n",
    "1. Addition\n",
    "2. Subtraction\n",
    "3. Multiplication\n",
    "<br>\n",
    "We will now form a table showing using these operators using examples and expected outcomes:\n",
    "--------------\n",
    "|**OPERATOR**      |**SIGN**|**EXAMPLE**|**OUTPUT**|\n",
    "|------------------|--------|-----------|----------|\n",
    "|**ADDITION**      |+       |15 + 19    |34        |\n",
    "|**SUBTRACTION**   |-       |24 - 16    |8         |\n",
    "|**MULTIPLICATION**|*       |24 * 24    |576       |"
   ]
  }
 ],
 "metadata": {
  "kernelspec": {
   "display_name": "Python 3 (ipykernel)",
   "language": "python",
   "name": "python3"
  },
  "language_info": {
   "codemirror_mode": {
    "name": "ipython",
    "version": 3
   },
   "file_extension": ".py",
   "mimetype": "text/x-python",
   "name": "python",
   "nbconvert_exporter": "python",
   "pygments_lexer": "ipython3",
   "version": "3.9.7"
  }
 },
 "nbformat": 4,
 "nbformat_minor": 5
}
